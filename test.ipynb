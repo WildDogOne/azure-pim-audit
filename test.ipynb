{
 "cells": [
  {
   "cell_type": "code",
   "execution_count": 6,
   "metadata": {},
   "outputs": [],
   "source": [
    "import asyncio\n",
    "import json\n",
    "from msgraph.generated.models.group import Group\n",
    "from creds import azure_tenant_id, azure_client_id, azure_client_secret, confluence_page_id, confluence_token, confluence_url\n",
    "from functions.confluence import confluence_update_page, style_text, get_childid, convert_to_html_table\n",
    "from atlassian import Confluence\n",
    "\n",
    "\n",
    "from pprint import pprint\n",
    "\n",
    "from functions.msgraphapi import GraphAPI\n",
    "from functions.log_config import logger"
   ]
  },
  {
   "cell_type": "code",
   "execution_count": 7,
   "metadata": {},
   "outputs": [],
   "source": [
    "async def get_assignments(pim):\n",
    "    assignment_dict = {}\n",
    "    assignments = await pim.get_role_eligibility_schedules()\n",
    "\n",
    "    for assignment in assignments:\n",
    "        principal = assignment.principal\n",
    "        role = assignment.role_definition.display_name\n",
    "        principal_display_name = assignment.principal.display_name\n",
    "\n",
    "        if isinstance(assignment.principal, Group):\n",
    "            logger.debug(f\"Group: {principal_display_name} is assigned to {role}\")\n",
    "            group_id = principal.id\n",
    "            group_members = await pim.get_group_members(group_id)\n",
    "            if len(group_members) > 0:\n",
    "                for group_member in group_members:\n",
    "                    member_display_name = group_member.display_name\n",
    "                    if role not in assignment_dict:\n",
    "                        assignment_dict[role] = [member_display_name]\n",
    "                    else:\n",
    "                        assignment_dict[role].append(member_display_name)\n",
    "        else:\n",
    "            if role not in assignment_dict:\n",
    "                assignment_dict[role] = [principal_display_name]\n",
    "            else:\n",
    "                assignment_dict[role].append(principal_display_name)\n",
    "    return assignment_dict\n"
   ]
  },
  {
   "cell_type": "code",
   "execution_count": null,
   "metadata": {},
   "outputs": [],
   "source": [
    "graph_client = GraphAPI(\n",
    "azure_tenant_id=azure_tenant_id,\n",
    "azure_client_id=azure_client_id,\n",
    "azure_client_secret=azure_client_secret,\n",
    ")\n",
    "assignment_dict = await get_assignments(graph_client)"
   ]
  },
  {
   "cell_type": "code",
   "execution_count": null,
   "metadata": {},
   "outputs": [],
   "source": [
    "user_roles = {}\n",
    "for role in assignment_dict:\n",
    "    for user in assignment_dict[role]:\n",
    "        if user not in user_roles:\n",
    "            user_roles[user] = [role]\n",
    "        else:\n",
    "            user_roles[user].append(role)\n",
    "\n",
    "user_array = []\n",
    "for user in user_roles:\n",
    "    user_array.append({\"user\": user, \"roles\": user_roles[user]})\n",
    "pprint(user_array)"
   ]
  },
  {
   "cell_type": "code",
   "execution_count": null,
   "metadata": {},
   "outputs": [],
   "source": [
    "\"\"\"confluence_child_page_id = get_childid(\n",
    "    confluence=confluence, confluence_page_id=confluence_page_id, sub_page_name=title\n",
    ")\"\"\"\n",
    "\n",
    "confluence = Confluence(url=confluence_url, token=confluence_token)\n",
    "\n",
    "body = \"\"\n",
    "\n",
    "for user in user_array:\n",
    "    body += f\"<h2>{user[\"user\"]}</h2>\"\n",
    "    roles = []\n",
    "    for role in user[\"roles\"]:\n",
    "        roles.append({\"Role Name\": role, \"Begründung\": \"\"})\n",
    "    body += convert_to_html_table(roles)\n",
    "confluence_update_page(\n",
    "    confluence=confluence,\n",
    "    title=\"Role Export\",\n",
    "    parent_id=confluence_page_id,\n",
    "    #table=user_roles,\n",
    "    representation=\"storage\",\n",
    "    full_width=False,\n",
    "    body_header=body,\n",
    "    # body_footer=\"footer\",\n",
    "    escape_table=True,\n",
    ")\n",
    "\n",
    "\n",
    "pprint(user_roles)"
   ]
  }
 ],
 "metadata": {
  "kernelspec": {
   "display_name": ".venv",
   "language": "python",
   "name": "python3"
  },
  "language_info": {
   "codemirror_mode": {
    "name": "ipython",
    "version": 3
   },
   "file_extension": ".py",
   "mimetype": "text/x-python",
   "name": "python",
   "nbconvert_exporter": "python",
   "pygments_lexer": "ipython3",
   "version": "3.12.6"
  }
 },
 "nbformat": 4,
 "nbformat_minor": 2
}
