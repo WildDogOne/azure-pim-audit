{
 "cells": [
  {
   "cell_type": "markdown",
   "metadata": {},
   "source": [
    "https://learn.microsoft.com/en-us/rest/api/authorization/privileged-role-eligibility-rest-sample\n"
   ]
  },
  {
   "cell_type": "code",
   "execution_count": 43,
   "metadata": {},
   "outputs": [],
   "source": [
    "import os\n",
    "import random\n",
    "from pprint import pprint\n",
    "from creds import (\n",
    "    azure_tenant_id,\n",
    "    azure_client_id,\n",
    "    azure_client_secret,\n",
    "    confluence_page_id,\n",
    "    confluence_token,\n",
    "    confluence_url,\n",
    "    confluence_entraid_page_name,\n",
    ")\n",
    "from azure.identity import ClientSecretCredential\n",
    "from azure.mgmt.authorization import AuthorizationManagementClient\n",
    "from azure.identity import AzureCliCredential\n",
    "\n",
    "credential = ClientSecretCredential(\n",
    "    azure_tenant_id, azure_client_id, azure_client_secret\n",
    ")\n",
    "tenant_root_id = \"5d1a9f9d-201f-4a10-b983-451cf65cbc1e\"\n",
    "tenant_root_id = \"8c9f5db3-2e44-4f8b-a262-250d7b24d0f3\"\n",
    "scope = f\"/subscriptions/{tenant_root_id}\"\n",
    "\n",
    "client = AuthorizationManagementClient(credential, tenant_root_id)\n"
   ]
  },
  {
   "cell_type": "code",
   "execution_count": 44,
   "metadata": {},
   "outputs": [],
   "source": [
    "#assignments = client.role_eligibility_schedules.list_for_scope(scope)\n",
    "assignments = client.role_eligibility_schedule_instances.list_for_scope(scope)"
   ]
  },
  {
   "cell_type": "code",
   "execution_count": null,
   "metadata": {},
   "outputs": [],
   "source": [
    "results = []\n",
    "for assignment in assignments:\n",
    "    #pprint(assignment.__dict__)\n",
    "    expanded = assignment.expanded_properties\n",
    "    end_date_time = assignment.end_date_time or \"permanent\"\n",
    "    print(expanded.principal.display_name)\n",
    "\n",
    "\n",
    "    result = {\n",
    "        \"PrincipalName\": expanded.principal.display_name,\n",
    "        \"PrincipalEmail\": expanded.principal.email,\n",
    "        \"PrincipalType\": expanded.principal.type,\n",
    "        \"PrincipalId\": expanded.principal.id,\n",
    "        \"RoleName\": expanded.role_definition.display_name,\n",
    "        \"RoleType\": expanded.role_definition.type,\n",
    "        \"RoleId\": expanded.role_definition.id,\n",
    "        \"ScopeId\": expanded.scope.id,\n",
    "        \"ScopeName\": expanded.scope.display_name,\n",
    "        \"ScopeType\": expanded.scope.type,\n",
    "        \"Status\": assignment.status,\n",
    "        \"createdOn\": assignment.created_on,\n",
    "        \"startDateTime\": assignment.start_date_time,\n",
    "        \"endDateTime\": end_date_time,\n",
    "        #\"updatedOn\": assignment.updated_on,\n",
    "        \"memberType\": assignment.member_type,\n",
    "        \"id\": assignment.id,\n",
    "    }\n",
    "\n",
    "    results.append(result)\n"
   ]
  },
  {
   "cell_type": "code",
   "execution_count": null,
   "metadata": {},
   "outputs": [],
   "source": [
    "pprint(results)"
   ]
  }
 ],
 "metadata": {
  "kernelspec": {
   "display_name": ".venv",
   "language": "python",
   "name": "python3"
  },
  "language_info": {
   "codemirror_mode": {
    "name": "ipython",
    "version": 3
   },
   "file_extension": ".py",
   "mimetype": "text/x-python",
   "name": "python",
   "nbconvert_exporter": "python",
   "pygments_lexer": "ipython3",
   "version": "3.12.6"
  }
 },
 "nbformat": 4,
 "nbformat_minor": 2
}
